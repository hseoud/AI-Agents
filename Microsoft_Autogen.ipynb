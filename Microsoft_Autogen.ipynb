{
 "cells": [
  {
   "cell_type": "code",
   "execution_count": 1,
   "id": "7f9bedc9-aae8-465d-a78a-565f708a1ebb",
   "metadata": {},
   "outputs": [
    {
     "name": "stdout",
     "output_type": "stream",
     "text": [
      "Requirement already satisfied: pyautogen in c:\\users\\alseo\\anaconda\\anaconda3\\lib\\site-packages (0.7.3)\n",
      "Requirement already satisfied: asyncer==0.0.8 in c:\\users\\alseo\\anaconda\\anaconda3\\lib\\site-packages (from pyautogen) (0.0.8)\n",
      "Requirement already satisfied: diskcache in c:\\users\\alseo\\anaconda\\anaconda3\\lib\\site-packages (from pyautogen) (5.6.3)\n",
      "Requirement already satisfied: docker in c:\\users\\alseo\\anaconda\\anaconda3\\lib\\site-packages (from pyautogen) (7.1.0)\n",
      "Requirement already satisfied: fast-depends<3,>=2.4.12 in c:\\users\\alseo\\anaconda\\anaconda3\\lib\\site-packages (from pyautogen) (2.4.12)\n",
      "Requirement already satisfied: numpy in c:\\users\\alseo\\anaconda\\anaconda3\\lib\\site-packages (from pyautogen) (1.26.4)\n",
      "Requirement already satisfied: openai>=1.58 in c:\\users\\alseo\\anaconda\\anaconda3\\lib\\site-packages (from pyautogen) (1.61.0)\n",
      "Requirement already satisfied: packaging in c:\\users\\alseo\\anaconda\\anaconda3\\lib\\site-packages (from pyautogen) (24.1)\n",
      "Requirement already satisfied: pydantic<3,>=2.6.1 in c:\\users\\alseo\\anaconda\\anaconda3\\lib\\site-packages (from pyautogen) (2.8.2)\n",
      "Requirement already satisfied: python-dotenv in c:\\users\\alseo\\anaconda\\anaconda3\\lib\\site-packages (from pyautogen) (0.21.0)\n",
      "Requirement already satisfied: termcolor in c:\\users\\alseo\\anaconda\\anaconda3\\lib\\site-packages (from pyautogen) (2.5.0)\n",
      "Requirement already satisfied: tiktoken in c:\\users\\alseo\\anaconda\\anaconda3\\lib\\site-packages (from pyautogen) (0.8.0)\n",
      "Requirement already satisfied: websockets<15,>=14 in c:\\users\\alseo\\anaconda\\anaconda3\\lib\\site-packages (from pyautogen) (14.2)\n",
      "Requirement already satisfied: anyio<5.0,>=3.4.0 in c:\\users\\alseo\\anaconda\\anaconda3\\lib\\site-packages (from asyncer==0.0.8->pyautogen) (4.2.0)\n",
      "Requirement already satisfied: distro<2,>=1.7.0 in c:\\users\\alseo\\anaconda\\anaconda3\\lib\\site-packages (from openai>=1.58->pyautogen) (1.9.0)\n",
      "Requirement already satisfied: httpx<1,>=0.23.0 in c:\\users\\alseo\\anaconda\\anaconda3\\lib\\site-packages (from openai>=1.58->pyautogen) (0.27.0)\n",
      "Requirement already satisfied: jiter<1,>=0.4.0 in c:\\users\\alseo\\anaconda\\anaconda3\\lib\\site-packages (from openai>=1.58->pyautogen) (0.8.2)\n",
      "Requirement already satisfied: sniffio in c:\\users\\alseo\\anaconda\\anaconda3\\lib\\site-packages (from openai>=1.58->pyautogen) (1.3.0)\n",
      "Requirement already satisfied: tqdm>4 in c:\\users\\alseo\\anaconda\\anaconda3\\lib\\site-packages (from openai>=1.58->pyautogen) (4.66.5)\n",
      "Requirement already satisfied: typing-extensions<5,>=4.11 in c:\\users\\alseo\\anaconda\\anaconda3\\lib\\site-packages (from openai>=1.58->pyautogen) (4.11.0)\n",
      "Requirement already satisfied: annotated-types>=0.4.0 in c:\\users\\alseo\\anaconda\\anaconda3\\lib\\site-packages (from pydantic<3,>=2.6.1->pyautogen) (0.6.0)\n",
      "Requirement already satisfied: pydantic-core==2.20.1 in c:\\users\\alseo\\anaconda\\anaconda3\\lib\\site-packages (from pydantic<3,>=2.6.1->pyautogen) (2.20.1)\n",
      "Requirement already satisfied: pywin32>=304 in c:\\users\\alseo\\anaconda\\anaconda3\\lib\\site-packages (from docker->pyautogen) (305.1)\n",
      "Requirement already satisfied: requests>=2.26.0 in c:\\users\\alseo\\anaconda\\anaconda3\\lib\\site-packages (from docker->pyautogen) (2.32.3)\n",
      "Requirement already satisfied: urllib3>=1.26.0 in c:\\users\\alseo\\anaconda\\anaconda3\\lib\\site-packages (from docker->pyautogen) (2.2.3)\n",
      "Requirement already satisfied: regex>=2022.1.18 in c:\\users\\alseo\\anaconda\\anaconda3\\lib\\site-packages (from tiktoken->pyautogen) (2024.9.11)\n",
      "Requirement already satisfied: idna>=2.8 in c:\\users\\alseo\\anaconda\\anaconda3\\lib\\site-packages (from anyio<5.0,>=3.4.0->asyncer==0.0.8->pyautogen) (3.7)\n",
      "Requirement already satisfied: certifi in c:\\users\\alseo\\anaconda\\anaconda3\\lib\\site-packages (from httpx<1,>=0.23.0->openai>=1.58->pyautogen) (2024.8.30)\n",
      "Requirement already satisfied: httpcore==1.* in c:\\users\\alseo\\anaconda\\anaconda3\\lib\\site-packages (from httpx<1,>=0.23.0->openai>=1.58->pyautogen) (1.0.2)\n",
      "Requirement already satisfied: h11<0.15,>=0.13 in c:\\users\\alseo\\anaconda\\anaconda3\\lib\\site-packages (from httpcore==1.*->httpx<1,>=0.23.0->openai>=1.58->pyautogen) (0.14.0)\n",
      "Requirement already satisfied: charset-normalizer<4,>=2 in c:\\users\\alseo\\anaconda\\anaconda3\\lib\\site-packages (from requests>=2.26.0->docker->pyautogen) (3.3.2)\n",
      "Requirement already satisfied: colorama in c:\\users\\alseo\\anaconda\\anaconda3\\lib\\site-packages (from tqdm>4->openai>=1.58->pyautogen) (0.4.6)\n",
      "Note: you may need to restart the kernel to use updated packages.\n"
     ]
    }
   ],
   "source": [
    "pip install pyautogen"
   ]
  },
  {
   "cell_type": "code",
   "execution_count": 1,
   "id": "91cdd201-c2c5-449b-82b7-80ce26bc06ea",
   "metadata": {},
   "outputs": [
    {
     "name": "stderr",
     "output_type": "stream",
     "text": [
      "C:\\Users\\alseo\\Anaconda\\anaconda3\\Lib\\site-packages\\paramiko\\pkey.py:82: CryptographyDeprecationWarning: TripleDES has been moved to cryptography.hazmat.decrepit.ciphers.algorithms.TripleDES and will be removed from this module in 48.0.0.\n",
      "  \"cipher\": algorithms.TripleDES,\n",
      "C:\\Users\\alseo\\Anaconda\\anaconda3\\Lib\\site-packages\\paramiko\\transport.py:219: CryptographyDeprecationWarning: Blowfish has been moved to cryptography.hazmat.decrepit.ciphers.algorithms.Blowfish and will be removed from this module in 45.0.0.\n",
      "  \"class\": algorithms.Blowfish,\n",
      "C:\\Users\\alseo\\Anaconda\\anaconda3\\Lib\\site-packages\\paramiko\\transport.py:243: CryptographyDeprecationWarning: TripleDES has been moved to cryptography.hazmat.decrepit.ciphers.algorithms.TripleDES and will be removed from this module in 48.0.0.\n",
      "  \"class\": algorithms.TripleDES,\n"
     ]
    },
    {
     "ename": "TypeError",
     "evalue": "ConversableAgent.__init__() got an unexpected keyword argument 'api_key'",
     "output_type": "error",
     "traceback": [
      "\u001b[1;31m---------------------------------------------------------------------------\u001b[0m",
      "\u001b[1;31mTypeError\u001b[0m                                 Traceback (most recent call last)",
      "Cell \u001b[1;32mIn[1], line 7\u001b[0m\n\u001b[0;32m      4\u001b[0m api_key \u001b[38;5;241m=\u001b[39m \u001b[38;5;124m\"\u001b[39m\u001b[38;5;124mYOUR_API_KEY\u001b[39m\u001b[38;5;124m\"\u001b[39m\n\u001b[0;32m      6\u001b[0m \u001b[38;5;66;03m# Create AssistantAgent and UserProxyAgent\u001b[39;00m\n\u001b[1;32m----> 7\u001b[0m assistant \u001b[38;5;241m=\u001b[39m autogen\u001b[38;5;241m.\u001b[39mAssistantAgent(\u001b[38;5;124m\"\u001b[39m\u001b[38;5;124massistant\u001b[39m\u001b[38;5;124m\"\u001b[39m, api_key\u001b[38;5;241m=\u001b[39mapi_key)\n\u001b[0;32m      8\u001b[0m user_proxy \u001b[38;5;241m=\u001b[39m autogen\u001b[38;5;241m.\u001b[39mUserProxyAgent(\n\u001b[0;32m      9\u001b[0m     \u001b[38;5;124m\"\u001b[39m\u001b[38;5;124muser_proxy\u001b[39m\u001b[38;5;124m\"\u001b[39m, \n\u001b[0;32m     10\u001b[0m     code_execution_config\u001b[38;5;241m=\u001b[39m{\u001b[38;5;124m\"\u001b[39m\u001b[38;5;124muse_docker\u001b[39m\u001b[38;5;124m\"\u001b[39m: \u001b[38;5;28;01mFalse\u001b[39;00m},\n\u001b[0;32m     11\u001b[0m     llm_config\u001b[38;5;241m=\u001b[39m{\u001b[38;5;124m\"\u001b[39m\u001b[38;5;124mmodel_name\u001b[39m\u001b[38;5;124m\"\u001b[39m: \u001b[38;5;124m\"\u001b[39m\u001b[38;5;124mchatgpt-3.5\u001b[39m\u001b[38;5;124m\"\u001b[39m, \u001b[38;5;124m\"\u001b[39m\u001b[38;5;124mapi_key\u001b[39m\u001b[38;5;124m\"\u001b[39m: api_key}\n\u001b[0;32m     12\u001b[0m )\n\u001b[0;32m     14\u001b[0m \u001b[38;5;66;03m# Initiate chat\u001b[39;00m\n",
      "File \u001b[1;32m~\\Anaconda\\anaconda3\\Lib\\site-packages\\autogen\\agentchat\\assistant_agent.py:68\u001b[0m, in \u001b[0;36mAssistantAgent.__init__\u001b[1;34m(self, name, system_message, llm_config, is_termination_msg, max_consecutive_auto_reply, human_input_mode, description, **kwargs)\u001b[0m\n\u001b[0;32m     41\u001b[0m \u001b[38;5;28;01mdef\u001b[39;00m \u001b[38;5;21m__init__\u001b[39m(\n\u001b[0;32m     42\u001b[0m     \u001b[38;5;28mself\u001b[39m,\n\u001b[0;32m     43\u001b[0m     name: \u001b[38;5;28mstr\u001b[39m,\n\u001b[1;32m   (...)\u001b[0m\n\u001b[0;32m     50\u001b[0m     \u001b[38;5;241m*\u001b[39m\u001b[38;5;241m*\u001b[39mkwargs,\n\u001b[0;32m     51\u001b[0m ):\n\u001b[0;32m     52\u001b[0m \u001b[38;5;250m    \u001b[39m\u001b[38;5;124;03m\"\"\"Args:\u001b[39;00m\n\u001b[0;32m     53\u001b[0m \u001b[38;5;124;03m    name (str): agent name.\u001b[39;00m\n\u001b[0;32m     54\u001b[0m \u001b[38;5;124;03m    system_message (str): system message for the ChatCompletion inference.\u001b[39;00m\n\u001b[1;32m   (...)\u001b[0m\n\u001b[0;32m     66\u001b[0m \u001b[38;5;124;03m        [ConversableAgent](conversable_agent#init).\u001b[39;00m\n\u001b[0;32m     67\u001b[0m \u001b[38;5;124;03m    \"\"\"\u001b[39;00m\n\u001b[1;32m---> 68\u001b[0m     \u001b[38;5;28msuper\u001b[39m()\u001b[38;5;241m.\u001b[39m\u001b[38;5;21m__init__\u001b[39m(\n\u001b[0;32m     69\u001b[0m         name,\n\u001b[0;32m     70\u001b[0m         system_message,\n\u001b[0;32m     71\u001b[0m         is_termination_msg,\n\u001b[0;32m     72\u001b[0m         max_consecutive_auto_reply,\n\u001b[0;32m     73\u001b[0m         human_input_mode,\n\u001b[0;32m     74\u001b[0m         llm_config\u001b[38;5;241m=\u001b[39mllm_config,\n\u001b[0;32m     75\u001b[0m         description\u001b[38;5;241m=\u001b[39mdescription,\n\u001b[0;32m     76\u001b[0m         \u001b[38;5;241m*\u001b[39m\u001b[38;5;241m*\u001b[39mkwargs,\n\u001b[0;32m     77\u001b[0m     )\n\u001b[0;32m     78\u001b[0m     \u001b[38;5;28;01mif\u001b[39;00m logging_enabled():\n\u001b[0;32m     79\u001b[0m         log_new_agent(\u001b[38;5;28mself\u001b[39m, \u001b[38;5;28mlocals\u001b[39m())\n",
      "\u001b[1;31mTypeError\u001b[0m: ConversableAgent.__init__() got an unexpected keyword argument 'api_key'"
     ]
    }
   ],
   "source": [
    "import autogen\n",
    "\n",
    "# Replace 'YOUR_API_KEY' with your actual ChatGPT API key\n",
    "api_key = \"YOUR_API_KEY\"\n",
    "\n",
    "# Create AssistantAgent and UserProxyAgent\n",
    "assistant = autogen.AssistantAgent(\"assistant\", api_key=api_key)\n",
    "user_proxy = autogen.UserProxyAgent(\n",
    "    \"user_proxy\", \n",
    "    code_execution_config={\"use_docker\": False},\n",
    "    llm_config={\"model_name\": \"chatgpt-3.5\", \"api_key\": api_key}\n",
    ")\n",
    "\n",
    "# Initiate chat\n",
    "user_proxy.initiate_chat(assistant, message=\"Show me the YTD gain of 10 largest technology companies as of today.\")\n",
    "\n",
    "# Example usage of the client\n",
    "response = assistant.some_method()\n",
    "print(response)\n"
   ]
  },
  {
   "cell_type": "code",
   "execution_count": null,
   "id": "c5cab3e9-16cd-4fe0-937b-47ac1a9d01ad",
   "metadata": {},
   "outputs": [],
   "source": [
    "import autogen\n",
    "\n",
    "# Create AssistantAgent and UserProxyAgent\n",
    "assistant = autogen.AssistantAgent(\"assistant\")\n",
    "user_proxy = autogen.UserProxyAgent(\"user_proxy\", code_execution_config={\"use_docker\": False})\n",
    "\n",
    "# Initiate chat\n",
    "user_proxy.initiate_chat(assistant, message=\"Show me the YTD gain of 10 largest technology companies as of today.\")\n",
    "\n",
    "# # Example usage of the client\n",
    "# response = assistant.some_method()\n",
    "# print(response)\n"
   ]
  },
  {
   "cell_type": "code",
   "execution_count": null,
   "id": "6e03d247-504d-4e8b-a6aa-124dc4d97d28",
   "metadata": {},
   "outputs": [],
   "source": [
    "assistant = autogen.AssistantAgent(\"assistant\")\n",
    "user_proxy = autogen.UserProxyAgent(\"user_proxy\")\n",
    "user_proxy.initiate_chat(assistant, message=\"Show me the YTD gain of 10 largest technology companies as of today.\")\n",
    "# This triggers automated chat to solve the task"
   ]
  }
 ],
 "metadata": {
  "kernelspec": {
   "display_name": "Python 3 (ipykernel)",
   "language": "python",
   "name": "python3"
  },
  "language_info": {
   "codemirror_mode": {
    "name": "ipython",
    "version": 3
   },
   "file_extension": ".py",
   "mimetype": "text/x-python",
   "name": "python",
   "nbconvert_exporter": "python",
   "pygments_lexer": "ipython3",
   "version": "3.12.7"
  }
 },
 "nbformat": 4,
 "nbformat_minor": 5
}
