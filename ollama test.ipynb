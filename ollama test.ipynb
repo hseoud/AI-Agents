{
 "cells": [
  {
   "cell_type": "code",
   "execution_count": 26,
   "id": "42ae67b6-6d73-4a91-8963-741c89595837",
   "metadata": {},
   "outputs": [],
   "source": [
    "from ollama import chat\n",
    "\n",
    "class OllamaConversableAgent:\n",
    "    def __init__(self, name, model):\n",
    "        self.name = name\n",
    "        self.model = model\n",
    "\n",
    "    def generate_reply(self, messages):\n",
    "        response = chat(\n",
    "            model=self.model,\n",
    "            messages=messages\n",
    "        )\n",
    "        return response['message']['content']\n",
    "\n",
    "    def score_sql(self, question, sql, nl_response=None):\n",
    "        # Prepare the message\n",
    "        score_prompt = f\"Rate the following SQL query for the given natural language question on a scale of 1 to 10:\\n\\nQuestion: {question}\\nSQL: {sql}\\n\\n\"\n",
    "        if nl_response:\n",
    "            score_prompt += f\"Natural Language Response: {nl_response}\\n\\n\"\n",
    "\n",
    "        score_prompt += \"Rate it 1 if the SQL does not represent the question at all and 10 if the SQL represents the question perfectly.\"\n",
    "\n",
    "        # Get the score from the model\n",
    "        messages = [{\"role\": \"user\", \"content\": score_prompt}]\n",
    "        score_response = self.generate_reply(messages)\n",
    "        \n",
    "        return score_response\n",
    "\n",
    "# Instantiate the agent\n",
    "agent = OllamaConversableAgent(name=\"chatbot\", model='llama3.2')\n",
    "\n",
    "# # Example usage\n",
    "# question = \"How many people survived on the titanic?\"\n",
    "# sql = \"SELECT count(distinct passengerid) as number_of_survivors from titanic_db where survived = 1\"\n",
    "# nl_response = \"There were 777 number of passengers that survived the Titanic disaster.\"\n",
    "\n",
    "# score = agent.score_sql(question, sql, nl_response)\n",
    "# print(score)\n"
   ]
  },
  {
   "cell_type": "code",
   "execution_count": 23,
   "id": "ba2bf3a0-5789-481c-8367-50e1b00900cf",
   "metadata": {},
   "outputs": [
    {
     "name": "stdout",
     "output_type": "stream",
     "text": [
      "I would rate this SQL query an 8 out of 10.\n",
      "\n",
      "Here's why:\n",
      "\n",
      "* The query is selecting the count of distinct `passenger_id` values, which directly answers the number of passengers.\n",
      "* However, it does not specifically ask for unique individuals (i.e., it counts each passenger multiple times if they have multiple tickets or are listed multiple times in different records). It would be more accurate to use a query like this: `SELECT COUNT(DISTINCT total_number_of_people ON t) FROM titanic_train AS t`.\n",
      "\n",
      "* The SQL query does include all passengers, but it excludes crew members. If the natural language response states \"total\" and doesn't clarify whether it's counting only passengers or also including crew members, then we can't directly compare our ratings.\n",
      "\n",
      "Overall, the query seems to be accurate in answering the question for passengers only, so an 8 seems reasonable based on this assumption that the answer is referring specifically to passengers.\n"
     ]
    }
   ],
   "source": [
    "import pandas as pd\n",
    "from sqlalchemy import create_engine\n",
    "\n",
    "# Database connection parameters\n",
    "db_params = {\n",
    "    \"dbname\": \"postgres\",\n",
    "    \"user\": \"postgres\",\n",
    "    \"password\": \"pgpw\",\n",
    "    \"host\": \"localhost\",\n",
    "    \"port\": \"5432\"\n",
    "}\n",
    "\n",
    "# Create the SQLAlchemy engine\n",
    "engine = create_engine(f'postgresql://{db_params[\"user\"]}:{db_params[\"password\"]}@{db_params[\"host\"]}:{db_params[\"port\"]}/{db_params[\"dbname\"]}')\n",
    "\n",
    "# Define the SQL query to retrieve the data\n",
    "query = '''SELECT content as response, feedback, query, question\n",
    "           FROM public.thrive_message\n",
    "           ORDER BY updated_at DESC\n",
    "           LIMIT 1;'''\n",
    "\n",
    "# Load data into a pandas DataFrame\n",
    "df = pd.read_sql_query(query, engine)\n",
    "\n",
    "# Score the SQL using the AI agent\n",
    "question = str(df['question'][0])\n",
    "sql = str(df['query'][0])\n",
    "response = str(df['response'][0])\n",
    "\n",
    "score = agent.score_sql(question=question, sql=sql, nl_response=response)\n",
    "print(score)\n"
   ]
  },
  {
   "cell_type": "code",
   "execution_count": 3,
   "id": "3fcce777-9693-42ca-8cdd-722325be6890",
   "metadata": {},
   "outputs": [
    {
     "data": {
      "text/html": [
       "<div>\n",
       "<style scoped>\n",
       "    .dataframe tbody tr th:only-of-type {\n",
       "        vertical-align: middle;\n",
       "    }\n",
       "\n",
       "    .dataframe tbody tr th {\n",
       "        vertical-align: top;\n",
       "    }\n",
       "\n",
       "    .dataframe thead th {\n",
       "        text-align: right;\n",
       "    }\n",
       "</style>\n",
       "<table border=\"1\" class=\"dataframe\">\n",
       "  <thead>\n",
       "    <tr style=\"text-align: right;\">\n",
       "      <th></th>\n",
       "      <th>response</th>\n",
       "      <th>feedback</th>\n",
       "      <th>query</th>\n",
       "      <th>question</th>\n",
       "    </tr>\n",
       "  </thead>\n",
       "  <tbody>\n",
       "    <tr>\n",
       "      <th>0</th>\n",
       "      <td>The Titanic had a total of 891 passengers.</td>\n",
       "      <td>up</td>\n",
       "      <td>SELECT COUNT(distinct passenger_id) AS Number_...</td>\n",
       "      <td>How many passengers were on the titanic?</td>\n",
       "    </tr>\n",
       "  </tbody>\n",
       "</table>\n",
       "</div>"
      ],
      "text/plain": [
       "                                     response feedback  \\\n",
       "0  The Titanic had a total of 891 passengers.       up   \n",
       "\n",
       "                                               query  \\\n",
       "0  SELECT COUNT(distinct passenger_id) AS Number_...   \n",
       "\n",
       "                                   question  \n",
       "0  How many passengers were on the titanic?  "
      ]
     },
     "execution_count": 3,
     "metadata": {},
     "output_type": "execute_result"
    }
   ],
   "source": [
    "df.head()"
   ]
  },
  {
   "cell_type": "code",
   "execution_count": 11,
   "id": "07f1c060-18b5-4b6f-9738-1801de63b558",
   "metadata": {},
   "outputs": [
    {
     "data": {
      "text/plain": [
       "array(['SELECT COUNT(distinct passenger_id) AS Number_of_Passengers FROM titanic_train;'],\n",
       "      dtype=object)"
      ]
     },
     "execution_count": 11,
     "metadata": {},
     "output_type": "execute_result"
    }
   ],
   "source": [
    "df['query'].values"
   ]
  },
  {
   "cell_type": "markdown",
   "id": "b53e5038-819c-47ff-b829-a9fa635d8255",
   "metadata": {},
   "source": [
    "# Add a more recent question\n",
    "## to add more data to thrive_message you need to fire up the env \n",
    "## and cd to C:\\Users\\alseo\\Anaconda\\Jupyter Notebook Dev\\Thrive_Ai_Vanna_Module\\Thrive Ui App\\thrive-ui-main \n",
    "## streamlit run app.py"
   ]
  },
  {
   "cell_type": "markdown",
   "id": "dc1fa080-2b90-4a10-852a-cc0a58a028bf",
   "metadata": {},
   "source": [
    "# Less detail reponse"
   ]
  },
  {
   "cell_type": "code",
   "execution_count": 25,
   "id": "f5ad14f7-0092-4776-808f-9f74d88426e3",
   "metadata": {},
   "outputs": [
    {
     "name": "stdout",
     "output_type": "stream",
     "text": [
      "I would rate this SQL query an 8 out of 10 for representing the natural language question \"How many passengers were on the Titanic?\".\n"
     ]
    }
   ],
   "source": [
    "from ollama import chat\n",
    "\n",
    "class OllamaConversableAgent:\n",
    "    def __init__(self, name, model):\n",
    "        self.name = name\n",
    "        self.model = model\n",
    "\n",
    "    def generate_reply(self, messages):\n",
    "        response = chat(\n",
    "            model=self.model,\n",
    "            messages=messages\n",
    "        )\n",
    "        return response['message']['content']\n",
    "#Test saying you want 1 line.\n",
    "    def score_sql(self, question, sql, nl_response=None, detailed=False):\n",
    "        # Prepare the message\n",
    "        score_prompt = f\"Rate the following SQL query for the given natural language question on a scale of 1 to 10:\\n\\nQuestion: {question}\\nSQL: {sql}\\n\\n\"\n",
    "        if nl_response:\n",
    "            score_prompt += f\"Natural Language Response: {nl_response}\\n\\n\"\n",
    "\n",
    "        score_prompt += \"Rate it 1 if the SQL does not represent the question at all and 10 if the SQL represents the question perfectly.\"\n",
    "\n",
    "        # Get the score from the model\n",
    "        messages = [{\"role\": \"user\", \"content\": score_prompt}]\n",
    "        score_response = self.generate_reply(messages)\n",
    "        \n",
    "        if detailed:\n",
    "            return score_response  # Return full answer\n",
    "        else:\n",
    "            # Return only the first line of the response\n",
    "            return score_response.split('\\n')[0]\n",
    "\n",
    "# Instantiate the agent\n",
    "agent = OllamaConversableAgent(name=\"chatbot\", model='llama3.2')\n",
    "\n",
    "# # Example usage\n",
    "# question = \"How many people survived on the Titanic?\"\n",
    "# sql = \"SELECT count(distinct passengerid) as number_of_survivors from titanic_db where survived = 1\"\n",
    "# nl_response = \"There were 777 number of passengers that survived the Titanic disaster.\"\n",
    "\n",
    "# score = agent.score_sql(question, sql, nl_response, detailed=True)\n",
    "# print(score)\n",
    "\n",
    "import pandas as pd\n",
    "from sqlalchemy import create_engine\n",
    "\n",
    "# Database connection parameters\n",
    "db_params = {\n",
    "    \"dbname\": \"postgres\",\n",
    "    \"user\": \"postgres\",\n",
    "    \"password\": \"pgpw\",\n",
    "    \"host\": \"localhost\",\n",
    "    \"port\": \"5432\"\n",
    "}\n",
    "\n",
    "# Create the SQLAlchemy engine\n",
    "engine = create_engine(f'postgresql://{db_params[\"user\"]}:{db_params[\"password\"]}@{db_params[\"host\"]}:{db_params[\"port\"]}/{db_params[\"dbname\"]}')\n",
    "\n",
    "# Define the SQL query to retrieve the data\n",
    "query = '''SELECT content as response, feedback, query, question\n",
    "           FROM public.thrive_message\n",
    "           ORDER BY updated_at DESC\n",
    "           LIMIT 1;'''\n",
    "\n",
    "# Load data into a pandas DataFrame\n",
    "df = pd.read_sql_query(query, engine)\n",
    "\n",
    "# Score the SQL using the AI agent\n",
    "question = str(df['question'][0])\n",
    "sql = str(df['query'][0])\n",
    "response = str(df['response'][0])\n",
    "\n",
    "score = agent.score_sql(question=question, sql=sql, nl_response=response, detailed=False)\n",
    "print(score)\n"
   ]
  },
  {
   "cell_type": "code",
   "execution_count": null,
   "id": "968bbd7a-39ea-43f0-a617-ec2526a2643c",
   "metadata": {},
   "outputs": [],
   "source": []
  }
 ],
 "metadata": {
  "kernelspec": {
   "display_name": "Python 3 (ipykernel)",
   "language": "python",
   "name": "python3"
  },
  "language_info": {
   "codemirror_mode": {
    "name": "ipython",
    "version": 3
   },
   "file_extension": ".py",
   "mimetype": "text/x-python",
   "name": "python",
   "nbconvert_exporter": "python",
   "pygments_lexer": "ipython3",
   "version": "3.12.7"
  }
 },
 "nbformat": 4,
 "nbformat_minor": 5
}
